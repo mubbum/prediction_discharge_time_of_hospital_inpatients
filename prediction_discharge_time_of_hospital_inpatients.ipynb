{
 "cells": [
  {
   "cell_type": "markdown",
   "metadata": {},
   "source": [
    "### Import Libraries"
   ]
  },
  {
   "cell_type": "code",
   "execution_count": 55,
   "metadata": {},
   "outputs": [],
   "source": [
    "import pandas as pd\n",
    "import numpy as np\n",
    "import matplotlib.pyplot as plt\n",
    "import seaborn as sns"
   ]
  },
  {
   "cell_type": "code",
   "execution_count": 91,
   "metadata": {},
   "outputs": [],
   "source": [
    "from sklearn.preprocessing import OrdinalEncoder , LabelEncoder\n",
    "from sklearn.model_selection import train_test_split \n",
    "from sklearn.metrics import mean_squared_error, classification_report, accuracy_score"
   ]
  },
  {
   "cell_type": "code",
   "execution_count": 57,
   "metadata": {},
   "outputs": [],
   "source": [
    "from sklearn.tree import DecisionTreeClassifier, DecisionTreeRegressor"
   ]
  },
  {
   "cell_type": "markdown",
   "metadata": {},
   "source": [
    "### Load Dataset"
   ]
  },
  {
   "cell_type": "code",
   "execution_count": 58,
   "metadata": {},
   "outputs": [
    {
     "name": "stderr",
     "output_type": "stream",
     "text": [
      "C:\\Users\\HP\\AppData\\Local\\Temp\\ipykernel_9836\\1366688716.py:1: DtypeWarning: Columns (10,29) have mixed types. Specify dtype option on import or set low_memory=False.\n",
      "  df = pd.read_csv(\"Hospital_Inpatient_Discharges.csv\")\n"
     ]
    },
    {
     "data": {
      "text/html": [
       "<div>\n",
       "<style scoped>\n",
       "    .dataframe tbody tr th:only-of-type {\n",
       "        vertical-align: middle;\n",
       "    }\n",
       "\n",
       "    .dataframe tbody tr th {\n",
       "        vertical-align: top;\n",
       "    }\n",
       "\n",
       "    .dataframe thead th {\n",
       "        text-align: right;\n",
       "    }\n",
       "</style>\n",
       "<table border=\"1\" class=\"dataframe\">\n",
       "  <thead>\n",
       "    <tr style=\"text-align: right;\">\n",
       "      <th></th>\n",
       "      <th>Hospital Service Area</th>\n",
       "      <th>Hospital County</th>\n",
       "      <th>Operating Certificate Number</th>\n",
       "      <th>Permanent Facility Id</th>\n",
       "      <th>Facility Name</th>\n",
       "      <th>Age Group</th>\n",
       "      <th>Zip Code - 3 digits</th>\n",
       "      <th>Gender</th>\n",
       "      <th>Race</th>\n",
       "      <th>Ethnicity</th>\n",
       "      <th>...</th>\n",
       "      <th>APR Severity of Illness Description</th>\n",
       "      <th>APR Risk of Mortality</th>\n",
       "      <th>APR Medical Surgical Description</th>\n",
       "      <th>Payment Typology 1</th>\n",
       "      <th>Payment Typology 2</th>\n",
       "      <th>Payment Typology 3</th>\n",
       "      <th>Birth Weight</th>\n",
       "      <th>Emergency Department Indicator</th>\n",
       "      <th>Total Charges</th>\n",
       "      <th>Total Costs</th>\n",
       "    </tr>\n",
       "  </thead>\n",
       "  <tbody>\n",
       "    <tr>\n",
       "      <th>0</th>\n",
       "      <td>New York City</td>\n",
       "      <td>Bronx</td>\n",
       "      <td>7000006.0</td>\n",
       "      <td>1169.0</td>\n",
       "      <td>Montefiore Medical Center - Henry &amp; Lucy Moses...</td>\n",
       "      <td>70 or Older</td>\n",
       "      <td>104</td>\n",
       "      <td>M</td>\n",
       "      <td>Other Race</td>\n",
       "      <td>Spanish/Hispanic</td>\n",
       "      <td>...</td>\n",
       "      <td>Major</td>\n",
       "      <td>Extreme</td>\n",
       "      <td>Medical</td>\n",
       "      <td>Medicare</td>\n",
       "      <td>Medicaid</td>\n",
       "      <td>NaN</td>\n",
       "      <td>NaN</td>\n",
       "      <td>Y</td>\n",
       "      <td>320,922.43</td>\n",
       "      <td>60,241.34</td>\n",
       "    </tr>\n",
       "    <tr>\n",
       "      <th>1</th>\n",
       "      <td>New York City</td>\n",
       "      <td>Bronx</td>\n",
       "      <td>7000006.0</td>\n",
       "      <td>1169.0</td>\n",
       "      <td>Montefiore Medical Center - Henry &amp; Lucy Moses...</td>\n",
       "      <td>50 to 69</td>\n",
       "      <td>104</td>\n",
       "      <td>F</td>\n",
       "      <td>White</td>\n",
       "      <td>Not Span/Hispanic</td>\n",
       "      <td>...</td>\n",
       "      <td>Moderate</td>\n",
       "      <td>Minor</td>\n",
       "      <td>Medical</td>\n",
       "      <td>Private Health Insurance</td>\n",
       "      <td>NaN</td>\n",
       "      <td>NaN</td>\n",
       "      <td>NaN</td>\n",
       "      <td>Y</td>\n",
       "      <td>61,665.22</td>\n",
       "      <td>9,180.69</td>\n",
       "    </tr>\n",
       "    <tr>\n",
       "      <th>2</th>\n",
       "      <td>New York City</td>\n",
       "      <td>Bronx</td>\n",
       "      <td>7000006.0</td>\n",
       "      <td>1168.0</td>\n",
       "      <td>Montefiore Medical Center-Wakefield Hospital</td>\n",
       "      <td>18 to 29</td>\n",
       "      <td>104</td>\n",
       "      <td>F</td>\n",
       "      <td>Other Race</td>\n",
       "      <td>Spanish/Hispanic</td>\n",
       "      <td>...</td>\n",
       "      <td>Minor</td>\n",
       "      <td>Minor</td>\n",
       "      <td>Surgical</td>\n",
       "      <td>Medicaid</td>\n",
       "      <td>NaN</td>\n",
       "      <td>NaN</td>\n",
       "      <td>NaN</td>\n",
       "      <td>N</td>\n",
       "      <td>42,705.34</td>\n",
       "      <td>11,366.5</td>\n",
       "    </tr>\n",
       "    <tr>\n",
       "      <th>3</th>\n",
       "      <td>New York City</td>\n",
       "      <td>Bronx</td>\n",
       "      <td>7000006.0</td>\n",
       "      <td>3058.0</td>\n",
       "      <td>Montefiore Med Center - Jack D Weiler Hosp of ...</td>\n",
       "      <td>70 or Older</td>\n",
       "      <td>104</td>\n",
       "      <td>M</td>\n",
       "      <td>Other Race</td>\n",
       "      <td>Spanish/Hispanic</td>\n",
       "      <td>...</td>\n",
       "      <td>Major</td>\n",
       "      <td>Major</td>\n",
       "      <td>Medical</td>\n",
       "      <td>Medicare</td>\n",
       "      <td>Medicaid</td>\n",
       "      <td>NaN</td>\n",
       "      <td>NaN</td>\n",
       "      <td>Y</td>\n",
       "      <td>72,700.17</td>\n",
       "      <td>12,111.75</td>\n",
       "    </tr>\n",
       "    <tr>\n",
       "      <th>4</th>\n",
       "      <td>New York City</td>\n",
       "      <td>Bronx</td>\n",
       "      <td>7000006.0</td>\n",
       "      <td>1169.0</td>\n",
       "      <td>Montefiore Medical Center - Henry &amp; Lucy Moses...</td>\n",
       "      <td>50 to 69</td>\n",
       "      <td>104</td>\n",
       "      <td>F</td>\n",
       "      <td>Black/African American</td>\n",
       "      <td>Not Span/Hispanic</td>\n",
       "      <td>...</td>\n",
       "      <td>Moderate</td>\n",
       "      <td>Minor</td>\n",
       "      <td>Medical</td>\n",
       "      <td>Medicare</td>\n",
       "      <td>Medicaid</td>\n",
       "      <td>NaN</td>\n",
       "      <td>NaN</td>\n",
       "      <td>Y</td>\n",
       "      <td>55,562.51</td>\n",
       "      <td>8,339.72</td>\n",
       "    </tr>\n",
       "    <tr>\n",
       "      <th>...</th>\n",
       "      <td>...</td>\n",
       "      <td>...</td>\n",
       "      <td>...</td>\n",
       "      <td>...</td>\n",
       "      <td>...</td>\n",
       "      <td>...</td>\n",
       "      <td>...</td>\n",
       "      <td>...</td>\n",
       "      <td>...</td>\n",
       "      <td>...</td>\n",
       "      <td>...</td>\n",
       "      <td>...</td>\n",
       "      <td>...</td>\n",
       "      <td>...</td>\n",
       "      <td>...</td>\n",
       "      <td>...</td>\n",
       "      <td>...</td>\n",
       "      <td>...</td>\n",
       "      <td>...</td>\n",
       "      <td>...</td>\n",
       "      <td>...</td>\n",
       "    </tr>\n",
       "    <tr>\n",
       "      <th>2101583</th>\n",
       "      <td>Finger Lakes</td>\n",
       "      <td>Steuben</td>\n",
       "      <td>5001000.0</td>\n",
       "      <td>866.0</td>\n",
       "      <td>Corning Hospital</td>\n",
       "      <td>18 to 29</td>\n",
       "      <td>OOS</td>\n",
       "      <td>F</td>\n",
       "      <td>White</td>\n",
       "      <td>Not Span/Hispanic</td>\n",
       "      <td>...</td>\n",
       "      <td>Minor</td>\n",
       "      <td>Minor</td>\n",
       "      <td>Medical</td>\n",
       "      <td>Private Health Insurance</td>\n",
       "      <td>NaN</td>\n",
       "      <td>NaN</td>\n",
       "      <td>NaN</td>\n",
       "      <td>N</td>\n",
       "      <td>6,296.75</td>\n",
       "      <td>4,197.53</td>\n",
       "    </tr>\n",
       "    <tr>\n",
       "      <th>2101584</th>\n",
       "      <td>Hudson Valley</td>\n",
       "      <td>Westchester</td>\n",
       "      <td>5902001.0</td>\n",
       "      <td>1045.0</td>\n",
       "      <td>White Plains Hospital Center</td>\n",
       "      <td>50 to 69</td>\n",
       "      <td>125</td>\n",
       "      <td>M</td>\n",
       "      <td>Multi-racial</td>\n",
       "      <td>Unknown</td>\n",
       "      <td>...</td>\n",
       "      <td>Major</td>\n",
       "      <td>Major</td>\n",
       "      <td>Medical</td>\n",
       "      <td>Medicaid</td>\n",
       "      <td>NaN</td>\n",
       "      <td>NaN</td>\n",
       "      <td>NaN</td>\n",
       "      <td>Y</td>\n",
       "      <td>122,882.04</td>\n",
       "      <td>37,761.67</td>\n",
       "    </tr>\n",
       "    <tr>\n",
       "      <th>2101585</th>\n",
       "      <td>New York City</td>\n",
       "      <td>Manhattan</td>\n",
       "      <td>7002054.0</td>\n",
       "      <td>1464.0</td>\n",
       "      <td>New York-Presbyterian Hospital - Columbia Pres...</td>\n",
       "      <td>30 to 49</td>\n",
       "      <td>109</td>\n",
       "      <td>M</td>\n",
       "      <td>White</td>\n",
       "      <td>Not Span/Hispanic</td>\n",
       "      <td>...</td>\n",
       "      <td>Moderate</td>\n",
       "      <td>Minor</td>\n",
       "      <td>Surgical</td>\n",
       "      <td>Private Health Insurance</td>\n",
       "      <td>NaN</td>\n",
       "      <td>NaN</td>\n",
       "      <td>NaN</td>\n",
       "      <td>N</td>\n",
       "      <td>291,358.19</td>\n",
       "      <td>117,144.76</td>\n",
       "    </tr>\n",
       "    <tr>\n",
       "      <th>2101586</th>\n",
       "      <td>New York City</td>\n",
       "      <td>Kings</td>\n",
       "      <td>7001045.0</td>\n",
       "      <td>1692.0</td>\n",
       "      <td>Woodhull Medical &amp; Mental Health Center</td>\n",
       "      <td>50 to 69</td>\n",
       "      <td>112</td>\n",
       "      <td>F</td>\n",
       "      <td>Other Race</td>\n",
       "      <td>Spanish/Hispanic</td>\n",
       "      <td>...</td>\n",
       "      <td>Moderate</td>\n",
       "      <td>Minor</td>\n",
       "      <td>Medical</td>\n",
       "      <td>Medicaid</td>\n",
       "      <td>NaN</td>\n",
       "      <td>NaN</td>\n",
       "      <td>NaN</td>\n",
       "      <td>Y</td>\n",
       "      <td>27,830.75</td>\n",
       "      <td>18,969.13</td>\n",
       "    </tr>\n",
       "    <tr>\n",
       "      <th>2101587</th>\n",
       "      <td>Central NY</td>\n",
       "      <td>Oneida</td>\n",
       "      <td>3201002.0</td>\n",
       "      <td>589.0</td>\n",
       "      <td>Rome Memorial Hospital, Inc</td>\n",
       "      <td>70 or Older</td>\n",
       "      <td>133</td>\n",
       "      <td>F</td>\n",
       "      <td>White</td>\n",
       "      <td>Not Span/Hispanic</td>\n",
       "      <td>...</td>\n",
       "      <td>Major</td>\n",
       "      <td>Moderate</td>\n",
       "      <td>Medical</td>\n",
       "      <td>Medicare</td>\n",
       "      <td>NaN</td>\n",
       "      <td>NaN</td>\n",
       "      <td>NaN</td>\n",
       "      <td>Y</td>\n",
       "      <td>33,850.5</td>\n",
       "      <td>12,546.53</td>\n",
       "    </tr>\n",
       "  </tbody>\n",
       "</table>\n",
       "<p>2101588 rows × 33 columns</p>\n",
       "</div>"
      ],
      "text/plain": [
       "        Hospital Service Area Hospital County  Operating Certificate Number  \\\n",
       "0               New York City           Bronx                     7000006.0   \n",
       "1               New York City           Bronx                     7000006.0   \n",
       "2               New York City           Bronx                     7000006.0   \n",
       "3               New York City           Bronx                     7000006.0   \n",
       "4               New York City           Bronx                     7000006.0   \n",
       "...                       ...             ...                           ...   \n",
       "2101583          Finger Lakes         Steuben                     5001000.0   \n",
       "2101584         Hudson Valley     Westchester                     5902001.0   \n",
       "2101585         New York City       Manhattan                     7002054.0   \n",
       "2101586         New York City           Kings                     7001045.0   \n",
       "2101587            Central NY          Oneida                     3201002.0   \n",
       "\n",
       "         Permanent Facility Id  \\\n",
       "0                       1169.0   \n",
       "1                       1169.0   \n",
       "2                       1168.0   \n",
       "3                       3058.0   \n",
       "4                       1169.0   \n",
       "...                        ...   \n",
       "2101583                  866.0   \n",
       "2101584                 1045.0   \n",
       "2101585                 1464.0   \n",
       "2101586                 1692.0   \n",
       "2101587                  589.0   \n",
       "\n",
       "                                             Facility Name    Age Group  \\\n",
       "0        Montefiore Medical Center - Henry & Lucy Moses...  70 or Older   \n",
       "1        Montefiore Medical Center - Henry & Lucy Moses...     50 to 69   \n",
       "2             Montefiore Medical Center-Wakefield Hospital     18 to 29   \n",
       "3        Montefiore Med Center - Jack D Weiler Hosp of ...  70 or Older   \n",
       "4        Montefiore Medical Center - Henry & Lucy Moses...     50 to 69   \n",
       "...                                                    ...          ...   \n",
       "2101583                                   Corning Hospital     18 to 29   \n",
       "2101584                       White Plains Hospital Center     50 to 69   \n",
       "2101585  New York-Presbyterian Hospital - Columbia Pres...     30 to 49   \n",
       "2101586            Woodhull Medical & Mental Health Center     50 to 69   \n",
       "2101587                        Rome Memorial Hospital, Inc  70 or Older   \n",
       "\n",
       "        Zip Code - 3 digits Gender                    Race          Ethnicity  \\\n",
       "0                       104      M              Other Race   Spanish/Hispanic   \n",
       "1                       104      F                   White  Not Span/Hispanic   \n",
       "2                       104      F              Other Race   Spanish/Hispanic   \n",
       "3                       104      M              Other Race   Spanish/Hispanic   \n",
       "4                       104      F  Black/African American  Not Span/Hispanic   \n",
       "...                     ...    ...                     ...                ...   \n",
       "2101583                 OOS      F                   White  Not Span/Hispanic   \n",
       "2101584                 125      M            Multi-racial            Unknown   \n",
       "2101585                 109      M                   White  Not Span/Hispanic   \n",
       "2101586                 112      F              Other Race   Spanish/Hispanic   \n",
       "2101587                 133      F                   White  Not Span/Hispanic   \n",
       "\n",
       "         ... APR Severity of Illness Description APR Risk of Mortality  \\\n",
       "0        ...                               Major               Extreme   \n",
       "1        ...                            Moderate                 Minor   \n",
       "2        ...                               Minor                 Minor   \n",
       "3        ...                               Major                 Major   \n",
       "4        ...                            Moderate                 Minor   \n",
       "...      ...                                 ...                   ...   \n",
       "2101583  ...                               Minor                 Minor   \n",
       "2101584  ...                               Major                 Major   \n",
       "2101585  ...                            Moderate                 Minor   \n",
       "2101586  ...                            Moderate                 Minor   \n",
       "2101587  ...                               Major              Moderate   \n",
       "\n",
       "        APR Medical Surgical Description        Payment Typology 1  \\\n",
       "0                                Medical                  Medicare   \n",
       "1                                Medical  Private Health Insurance   \n",
       "2                               Surgical                  Medicaid   \n",
       "3                                Medical                  Medicare   \n",
       "4                                Medical                  Medicare   \n",
       "...                                  ...                       ...   \n",
       "2101583                          Medical  Private Health Insurance   \n",
       "2101584                          Medical                  Medicaid   \n",
       "2101585                         Surgical  Private Health Insurance   \n",
       "2101586                          Medical                  Medicaid   \n",
       "2101587                          Medical                  Medicare   \n",
       "\n",
       "        Payment Typology 2 Payment Typology 3 Birth Weight  \\\n",
       "0                 Medicaid                NaN          NaN   \n",
       "1                      NaN                NaN          NaN   \n",
       "2                      NaN                NaN          NaN   \n",
       "3                 Medicaid                NaN          NaN   \n",
       "4                 Medicaid                NaN          NaN   \n",
       "...                    ...                ...          ...   \n",
       "2101583                NaN                NaN          NaN   \n",
       "2101584                NaN                NaN          NaN   \n",
       "2101585                NaN                NaN          NaN   \n",
       "2101586                NaN                NaN          NaN   \n",
       "2101587                NaN                NaN          NaN   \n",
       "\n",
       "        Emergency Department Indicator  Total Charges Total Costs  \n",
       "0                                    Y     320,922.43   60,241.34  \n",
       "1                                    Y      61,665.22    9,180.69  \n",
       "2                                    N      42,705.34    11,366.5  \n",
       "3                                    Y      72,700.17   12,111.75  \n",
       "4                                    Y      55,562.51    8,339.72  \n",
       "...                                ...            ...         ...  \n",
       "2101583                              N       6,296.75    4,197.53  \n",
       "2101584                              Y     122,882.04   37,761.67  \n",
       "2101585                              N     291,358.19  117,144.76  \n",
       "2101586                              Y      27,830.75   18,969.13  \n",
       "2101587                              Y       33,850.5   12,546.53  \n",
       "\n",
       "[2101588 rows x 33 columns]"
      ]
     },
     "execution_count": 58,
     "metadata": {},
     "output_type": "execute_result"
    }
   ],
   "source": [
    "df = pd.read_csv(\"Hospital_Inpatient_Discharges.csv\")\n",
    "df"
   ]
  },
  {
   "cell_type": "code",
   "execution_count": 59,
   "metadata": {},
   "outputs": [
    {
     "name": "stdout",
     "output_type": "stream",
     "text": [
      "<class 'pandas.core.frame.DataFrame'>\n",
      "RangeIndex: 2101588 entries, 0 to 2101587\n",
      "Data columns (total 33 columns):\n",
      " #   Column                               Dtype  \n",
      "---  ------                               -----  \n",
      " 0   Hospital Service Area                object \n",
      " 1   Hospital County                      object \n",
      " 2   Operating Certificate Number         float64\n",
      " 3   Permanent Facility Id                float64\n",
      " 4   Facility Name                        object \n",
      " 5   Age Group                            object \n",
      " 6   Zip Code - 3 digits                  object \n",
      " 7   Gender                               object \n",
      " 8   Race                                 object \n",
      " 9   Ethnicity                            object \n",
      " 10  Length of Stay                       object \n",
      " 11  Type of Admission                    object \n",
      " 12  Patient Disposition                  object \n",
      " 13  Discharge Year                       int64  \n",
      " 14  CCSR Diagnosis Code                  object \n",
      " 15  CCSR Diagnosis Description           object \n",
      " 16  CCSR Procedure Code                  object \n",
      " 17  CCSR Procedure Description           object \n",
      " 18  APR DRG Code                         int64  \n",
      " 19  APR DRG Description                  object \n",
      " 20  APR MDC Code                         int64  \n",
      " 21  APR MDC Description                  object \n",
      " 22  APR Severity of Illness Code         int64  \n",
      " 23  APR Severity of Illness Description  object \n",
      " 24  APR Risk of Mortality                object \n",
      " 25  APR Medical Surgical Description     object \n",
      " 26  Payment Typology 1                   object \n",
      " 27  Payment Typology 2                   object \n",
      " 28  Payment Typology 3                   object \n",
      " 29  Birth Weight                         object \n",
      " 30  Emergency Department Indicator       object \n",
      " 31  Total Charges                        object \n",
      " 32  Total Costs                          object \n",
      "dtypes: float64(2), int64(4), object(27)\n",
      "memory usage: 529.1+ MB\n"
     ]
    }
   ],
   "source": [
    "df.info()"
   ]
  },
  {
   "cell_type": "code",
   "execution_count": 60,
   "metadata": {},
   "outputs": [],
   "source": [
    "df['Total Charges'] = df['Total Charges'].str.replace(',', '').astype(float)"
   ]
  },
  {
   "cell_type": "code",
   "execution_count": 61,
   "metadata": {},
   "outputs": [
    {
     "data": {
      "text/html": [
       "<div>\n",
       "<style scoped>\n",
       "    .dataframe tbody tr th:only-of-type {\n",
       "        vertical-align: middle;\n",
       "    }\n",
       "\n",
       "    .dataframe tbody tr th {\n",
       "        vertical-align: top;\n",
       "    }\n",
       "\n",
       "    .dataframe thead th {\n",
       "        text-align: right;\n",
       "    }\n",
       "</style>\n",
       "<table border=\"1\" class=\"dataframe\">\n",
       "  <thead>\n",
       "    <tr style=\"text-align: right;\">\n",
       "      <th></th>\n",
       "      <th>Operating Certificate Number</th>\n",
       "      <th>Permanent Facility Id</th>\n",
       "      <th>Discharge Year</th>\n",
       "      <th>APR DRG Code</th>\n",
       "      <th>APR MDC Code</th>\n",
       "      <th>APR Severity of Illness Code</th>\n",
       "      <th>Total Charges</th>\n",
       "    </tr>\n",
       "  </thead>\n",
       "  <tbody>\n",
       "    <tr>\n",
       "      <th>count</th>\n",
       "      <td>2.089497e+06</td>\n",
       "      <td>2.090946e+06</td>\n",
       "      <td>2101588.0</td>\n",
       "      <td>2.101588e+06</td>\n",
       "      <td>2.101588e+06</td>\n",
       "      <td>2.101588e+06</td>\n",
       "      <td>2.101588e+06</td>\n",
       "    </tr>\n",
       "    <tr>\n",
       "      <th>mean</th>\n",
       "      <td>4.990270e+06</td>\n",
       "      <td>1.033841e+03</td>\n",
       "      <td>2021.0</td>\n",
       "      <td>4.141057e+02</td>\n",
       "      <td>1.028546e+01</td>\n",
       "      <td>2.122646e+00</td>\n",
       "      <td>7.330542e+04</td>\n",
       "    </tr>\n",
       "    <tr>\n",
       "      <th>std</th>\n",
       "      <td>2.234939e+06</td>\n",
       "      <td>7.094093e+02</td>\n",
       "      <td>0.0</td>\n",
       "      <td>2.442334e+02</td>\n",
       "      <td>5.961765e+00</td>\n",
       "      <td>9.556966e-01</td>\n",
       "      <td>1.492020e+05</td>\n",
       "    </tr>\n",
       "    <tr>\n",
       "      <th>min</th>\n",
       "      <td>1.010000e+05</td>\n",
       "      <td>1.000000e+00</td>\n",
       "      <td>2021.0</td>\n",
       "      <td>1.000000e+00</td>\n",
       "      <td>0.000000e+00</td>\n",
       "      <td>0.000000e+00</td>\n",
       "      <td>3.400000e-01</td>\n",
       "    </tr>\n",
       "    <tr>\n",
       "      <th>25%</th>\n",
       "      <td>2.951001e+06</td>\n",
       "      <td>5.280000e+02</td>\n",
       "      <td>2021.0</td>\n",
       "      <td>1.940000e+02</td>\n",
       "      <td>5.000000e+00</td>\n",
       "      <td>1.000000e+00</td>\n",
       "      <td>1.909500e+04</td>\n",
       "    </tr>\n",
       "    <tr>\n",
       "      <th>50%</th>\n",
       "      <td>5.902001e+06</td>\n",
       "      <td>1.045000e+03</td>\n",
       "      <td>2021.0</td>\n",
       "      <td>3.830000e+02</td>\n",
       "      <td>9.000000e+00</td>\n",
       "      <td>2.000000e+00</td>\n",
       "      <td>3.842152e+04</td>\n",
       "    </tr>\n",
       "    <tr>\n",
       "      <th>75%</th>\n",
       "      <td>7.002020e+06</td>\n",
       "      <td>1.453000e+03</td>\n",
       "      <td>2021.0</td>\n",
       "      <td>6.400000e+02</td>\n",
       "      <td>1.500000e+01</td>\n",
       "      <td>3.000000e+00</td>\n",
       "      <td>7.723338e+04</td>\n",
       "    </tr>\n",
       "    <tr>\n",
       "      <th>max</th>\n",
       "      <td>7.004010e+06</td>\n",
       "      <td>1.035500e+04</td>\n",
       "      <td>2021.0</td>\n",
       "      <td>9.560000e+02</td>\n",
       "      <td>2.500000e+01</td>\n",
       "      <td>4.000000e+00</td>\n",
       "      <td>1.793575e+07</td>\n",
       "    </tr>\n",
       "  </tbody>\n",
       "</table>\n",
       "</div>"
      ],
      "text/plain": [
       "       Operating Certificate Number  Permanent Facility Id  Discharge Year  \\\n",
       "count                  2.089497e+06           2.090946e+06       2101588.0   \n",
       "mean                   4.990270e+06           1.033841e+03          2021.0   \n",
       "std                    2.234939e+06           7.094093e+02             0.0   \n",
       "min                    1.010000e+05           1.000000e+00          2021.0   \n",
       "25%                    2.951001e+06           5.280000e+02          2021.0   \n",
       "50%                    5.902001e+06           1.045000e+03          2021.0   \n",
       "75%                    7.002020e+06           1.453000e+03          2021.0   \n",
       "max                    7.004010e+06           1.035500e+04          2021.0   \n",
       "\n",
       "       APR DRG Code  APR MDC Code  APR Severity of Illness Code  Total Charges  \n",
       "count  2.101588e+06  2.101588e+06                  2.101588e+06   2.101588e+06  \n",
       "mean   4.141057e+02  1.028546e+01                  2.122646e+00   7.330542e+04  \n",
       "std    2.442334e+02  5.961765e+00                  9.556966e-01   1.492020e+05  \n",
       "min    1.000000e+00  0.000000e+00                  0.000000e+00   3.400000e-01  \n",
       "25%    1.940000e+02  5.000000e+00                  1.000000e+00   1.909500e+04  \n",
       "50%    3.830000e+02  9.000000e+00                  2.000000e+00   3.842152e+04  \n",
       "75%    6.400000e+02  1.500000e+01                  3.000000e+00   7.723338e+04  \n",
       "max    9.560000e+02  2.500000e+01                  4.000000e+00   1.793575e+07  "
      ]
     },
     "execution_count": 61,
     "metadata": {},
     "output_type": "execute_result"
    }
   ],
   "source": [
    "describe = df.describe()\n",
    "describe"
   ]
  },
  {
   "cell_type": "code",
   "execution_count": 62,
   "metadata": {},
   "outputs": [
    {
     "data": {
      "text/plain": [
       "0          27\n",
       "1           4\n",
       "2           2\n",
       "3           5\n",
       "4           3\n",
       "           ..\n",
       "2101583     1\n",
       "2101584    13\n",
       "2101585     7\n",
       "2101586     2\n",
       "2101587     7\n",
       "Name: Length of Stay, Length: 2101588, dtype: int64"
      ]
     },
     "execution_count": 62,
     "metadata": {},
     "output_type": "execute_result"
    }
   ],
   "source": [
    "df[\"Length of Stay\"] = df[\"Length of Stay\"].replace(\"120 +\", 120)\n",
    "df[\"Length of Stay\"] = pd.to_numeric(df[\"Length of Stay\"])\n",
    "los = df[\"Length of Stay\"]\n",
    "los"
   ]
  },
  {
   "cell_type": "code",
   "execution_count": 63,
   "metadata": {},
   "outputs": [
    {
     "data": {
      "text/plain": [
       "Hospital Service Area                    10642\n",
       "Hospital County                          10642\n",
       "Operating Certificate Number             12091\n",
       "Permanent Facility Id                    10642\n",
       "Facility Name                                0\n",
       "Age Group                                    0\n",
       "Zip Code - 3 digits                      45062\n",
       "Gender                                       0\n",
       "Race                                         0\n",
       "Ethnicity                                    0\n",
       "Length of Stay                               0\n",
       "Type of Admission                            0\n",
       "Patient Disposition                          0\n",
       "Discharge Year                               0\n",
       "CCSR Diagnosis Code                       1634\n",
       "CCSR Diagnosis Description                1634\n",
       "CCSR Procedure Code                     576021\n",
       "CCSR Procedure Description              576021\n",
       "APR DRG Code                                 0\n",
       "APR DRG Description                          0\n",
       "APR MDC Code                                 0\n",
       "APR MDC Description                          0\n",
       "APR Severity of Illness Code                 0\n",
       "APR Severity of Illness Description       2550\n",
       "APR Risk of Mortality                     2550\n",
       "APR Medical Surgical Description             0\n",
       "Payment Typology 1                           0\n",
       "Payment Typology 2                     1072245\n",
       "Payment Typology 3                     1768881\n",
       "Birth Weight                           1894731\n",
       "Emergency Department Indicator               0\n",
       "Total Charges                                0\n",
       "Total Costs                                  0\n",
       "dtype: int64"
      ]
     },
     "execution_count": 63,
     "metadata": {},
     "output_type": "execute_result"
    }
   ],
   "source": [
    "df.isnull().sum()"
   ]
  },
  {
   "cell_type": "code",
   "execution_count": 64,
   "metadata": {},
   "outputs": [
    {
     "data": {
      "text/plain": [
       "Hospital Service Area                        8\n",
       "Hospital County                             57\n",
       "Operating Certificate Number               168\n",
       "Permanent Facility Id                      205\n",
       "Facility Name                              205\n",
       "Age Group                                    5\n",
       "Zip Code - 3 digits                         50\n",
       "Gender                                       3\n",
       "Race                                         4\n",
       "Ethnicity                                    4\n",
       "Length of Stay                             120\n",
       "Type of Admission                            6\n",
       "Patient Disposition                         19\n",
       "Discharge Year                               1\n",
       "CCSR Diagnosis Code                        477\n",
       "CCSR Diagnosis Description                 477\n",
       "CCSR Procedure Code                        320\n",
       "CCSR Procedure Description                 320\n",
       "APR DRG Code                               334\n",
       "APR DRG Description                        334\n",
       "APR MDC Code                                26\n",
       "APR MDC Description                         26\n",
       "APR Severity of Illness Code                 5\n",
       "APR Severity of Illness Description          4\n",
       "APR Risk of Mortality                        4\n",
       "APR Medical Surgical Description             3\n",
       "Payment Typology 1                           9\n",
       "Payment Typology 2                           9\n",
       "Payment Typology 3                           9\n",
       "Birth Weight                               130\n",
       "Emergency Department Indicator               2\n",
       "Total Charges                          1818969\n",
       "Total Costs                            1549652\n",
       "dtype: int64"
      ]
     },
     "execution_count": 64,
     "metadata": {},
     "output_type": "execute_result"
    }
   ],
   "source": [
    "df.nunique()"
   ]
  },
  {
   "cell_type": "code",
   "execution_count": 65,
   "metadata": {},
   "outputs": [],
   "source": [
    "df = df[df[\"Patient Disposition\"] != \"Expired\"]"
   ]
  },
  {
   "cell_type": "markdown",
   "metadata": {},
   "source": [
    "### EDA"
   ]
  },
  {
   "cell_type": "code",
   "execution_count": 66,
   "metadata": {},
   "outputs": [
    {
     "name": "stderr",
     "output_type": "stream",
     "text": [
      "C:\\Users\\HP\\AppData\\Local\\Temp\\ipykernel_9836\\3785019428.py:1: FutureWarning: \n",
      "\n",
      "Passing `palette` without assigning `hue` is deprecated and will be removed in v0.14.0. Assign the `x` variable to `hue` and set `legend=False` for the same effect.\n",
      "\n",
      "  sns.boxplot(x = \"Payment Typology 1\", y= \"Length of Stay\", data = df, palette=sns.color_palette(\"tab10\"))\n",
      "C:\\Users\\HP\\AppData\\Local\\Temp\\ipykernel_9836\\3785019428.py:1: UserWarning: The palette list has more values (10) than needed (9), which may not be intended.\n",
      "  sns.boxplot(x = \"Payment Typology 1\", y= \"Length of Stay\", data = df, palette=sns.color_palette(\"tab10\"))\n"
     ]
    },
    {
     "data": {
      "image/png": "[encoded data removed]",
      "text/plain": [
       "<Figure size 640x480 with 1 Axes>"
      ]
     },
     "metadata": {},
     "output_type": "display_data"
    }
   ],
   "source": [
    "sns.boxplot(x = \"Payment Typology 1\", y= \"Length of Stay\", data = df, palette=sns.color_palette(\"tab10\"))\n",
    "plt.title(\"Payment Typology 1 vs Length of Stay\")\n",
    "plt.xticks(rotation = 60)\n",
    "plt.show()"
   ]
  },
  {
   "cell_type": "code",
   "execution_count": 67,
   "metadata": {},
   "outputs": [
    {
     "name": "stderr",
     "output_type": "stream",
     "text": [
      "C:\\Users\\HP\\AppData\\Local\\Temp\\ipykernel_9836\\1722070896.py:1: FutureWarning: \n",
      "\n",
      "Passing `palette` without assigning `hue` is deprecated and will be removed in v0.14.0. Assign the `x` variable to `hue` and set `legend=False` for the same effect.\n",
      "\n",
      "  sns.countplot(x = \"Age Group\", data = df[df[\"Payment Typology 1\"] == \"Medicare\"], palette=sns.color_palette(\"tab10\"))\n",
      "C:\\Users\\HP\\AppData\\Local\\Temp\\ipykernel_9836\\1722070896.py:1: UserWarning: The palette list has more values (10) than needed (5), which may not be intended.\n",
      "  sns.countplot(x = \"Age Group\", data = df[df[\"Payment Typology 1\"] == \"Medicare\"], palette=sns.color_palette(\"tab10\"))\n"
     ]
    },
    {
     "data": {
      "image/png": "[encoded data removed]",
      "text/plain": [
       "<Figure size 640x480 with 1 Axes>"
      ]
     },
     "metadata": {},
     "output_type": "display_data"
    }
   ],
   "source": [
    "sns.countplot(x = \"Age Group\", data = df[df[\"Payment Typology 1\"] == \"Medicare\"], palette=sns.color_palette(\"tab10\"))\n",
    "plt.title(\"Medicare Partients for Age Group\")\n",
    "plt.show()"
   ]
  },
  {
   "cell_type": "markdown",
   "metadata": {},
   "source": [
    "### Features Encoding"
   ]
  },
  {
   "cell_type": "markdown",
   "metadata": {},
   "source": [
    "Encoding of features was done manually and separately using Encoder"
   ]
  },
  {
   "cell_type": "code",
   "execution_count": 68,
   "metadata": {},
   "outputs": [],
   "source": [
    "df = df.drop([\"Hospital Service Area\", \"Hospital County\", \"Operating Certificate Number\",\"Facility Name\", \n",
    "              \"Zip Code - 3 digits\", \"Patient Disposition\", \"Discharge Year\", \"CCSR Diagnosis Description\", \n",
    "              \"CCSR Procedure Description\", \"APR DRG Description\", \"APR MDC Description\", \"APR Severity of Illness Description\", \n",
    "              \"Payment Typology 2\", \"Payment Typology 3\", \"Birth Weight\", \"Total Costs\"], axis = 1)"
   ]
  },
  {
   "cell_type": "code",
   "execution_count": 69,
   "metadata": {},
   "outputs": [],
   "source": [
    "age_group_index = {\"0 to 17\":1, \"18 to 29\":2, \"30 to 49\":3, \"50 to 69\":4, \"70 or Older\":5}\n",
    "gender_index = {\"U\":1, \"F\":2, \"M\":3}\n",
    "risk_and_severity_index = {np.nan:0, \"Minor\":1, \"Moderate\":2, \"Major\":3, \"Extreme\":4}"
   ]
  },
  {
   "cell_type": "code",
   "execution_count": 70,
   "metadata": {},
   "outputs": [],
   "source": [
    "df[\"Age Group\"] = df[\"Age Group\"].apply(lambda x: age_group_index[x])\n",
    "df[\"Gender\"] = df[\"Gender\"].apply(lambda x: gender_index[x])\n",
    "df[\"APR Risk of Mortality\"] = df[\"APR Risk of Mortality\"].apply(lambda x: risk_and_severity_index[x])"
   ]
  },
  {
   "cell_type": "code",
   "execution_count": 71,
   "metadata": {},
   "outputs": [],
   "source": [
    "encoder = LabelEncoder()"
   ]
  },
  {
   "cell_type": "code",
   "execution_count": 72,
   "metadata": {},
   "outputs": [
    {
     "data": {
      "text/plain": [
       "Permanent Facility Id                10590\n",
       "Age Group                                0\n",
       "Gender                                   0\n",
       "Race                                     0\n",
       "Ethnicity                                0\n",
       "Length of Stay                           0\n",
       "Type of Admission                        0\n",
       "CCSR Diagnosis Code                   1614\n",
       "CCSR Procedure Code                 566234\n",
       "APR DRG Code                             0\n",
       "APR MDC Code                             0\n",
       "APR Severity of Illness Code             0\n",
       "APR Risk of Mortality                    0\n",
       "APR Medical Surgical Description         0\n",
       "Payment Typology 1                       0\n",
       "Emergency Department Indicator           0\n",
       "Total Charges                            0\n",
       "dtype: int64"
      ]
     },
     "execution_count": 72,
     "metadata": {},
     "output_type": "execute_result"
    }
   ],
   "source": [
    "df.isnull().sum()"
   ]
  },
  {
   "cell_type": "code",
   "execution_count": 73,
   "metadata": {},
   "outputs": [
    {
     "name": "stderr",
     "output_type": "stream",
     "text": [
      "C:\\Users\\HP\\AppData\\Local\\Packages\\PythonSoftwareFoundation.Python.3.10_qbz5n2kfra8p0\\LocalCache\\local-packages\\Python310\\site-packages\\sklearn\\preprocessing\\_label.py:115: DataConversionWarning: A column-vector y was passed when a 1d array was expected. Please change the shape of y to (n_samples, ), for example using ravel().\n",
      "  y = column_or_1d(y, warn=True)\n"
     ]
    }
   ],
   "source": [
    "df[\"Race\"] = encoder.fit_transform(np.asarray(df[\"Race\"]).reshape(-1,1))\n",
    "df[\"Ethnicity\"] = encoder.fit_transform(np.asarray(df[\"Ethnicity\"]).reshape(-1,1))\n",
    "df[\"Type of Admission\"] = encoder.fit_transform(np.asarray(df[\"Type of Admission\"]).reshape(-1,1))\n",
    "df[\"CCSR Diagnosis Code\"] = encoder.fit_transform(np.asarray(df[\"CCSR Diagnosis Code\"]).reshape(-1,1))\n",
    "df[\"CCSR Procedure Code\"] = encoder.fit_transform(np.asarray(df[\"CCSR Procedure Code\"]).reshape(-1,1))\n",
    "df[\"APR Medical Surgical Description\"] = encoder.fit_transform(np.asarray(df[\"APR Medical Surgical Description\"]).reshape(-1,1))\n",
    "df[\"Payment Typology 1\"] = encoder.fit_transform(np.asarray(df[\"Payment Typology 1\"]).reshape(-1,1))\n",
    "df[\"Emergency Department Indicator\"] = encoder.fit_transform(np.asarray(df[\"Emergency Department Indicator\"]).reshape(-1,1))"
   ]
  },
  {
   "cell_type": "code",
   "execution_count": 74,
   "metadata": {},
   "outputs": [
    {
     "data": {
      "text/plain": [
       "Permanent Facility Id               10590\n",
       "Age Group                               0\n",
       "Gender                                  0\n",
       "Race                                    0\n",
       "Ethnicity                               0\n",
       "Length of Stay                          0\n",
       "Type of Admission                       0\n",
       "CCSR Diagnosis Code                     0\n",
       "CCSR Procedure Code                     0\n",
       "APR DRG Code                            0\n",
       "APR MDC Code                            0\n",
       "APR Severity of Illness Code            0\n",
       "APR Risk of Mortality                   0\n",
       "APR Medical Surgical Description        0\n",
       "Payment Typology 1                      0\n",
       "Emergency Department Indicator          0\n",
       "Total Charges                           0\n",
       "dtype: int64"
      ]
     },
     "execution_count": 74,
     "metadata": {},
     "output_type": "execute_result"
    }
   ],
   "source": [
    "df.isnull().sum()"
   ]
  },
  {
   "cell_type": "code",
   "execution_count": 75,
   "metadata": {},
   "outputs": [],
   "source": [
    "df = df.dropna(subset=[\"Permanent Facility Id\"])"
   ]
  },
  {
   "cell_type": "markdown",
   "metadata": {},
   "source": [
    "### Train Test Split"
   ]
  },
  {
   "cell_type": "code",
   "execution_count": 76,
   "metadata": {},
   "outputs": [],
   "source": [
    "X = df.drop([\"Length of Stay\"], axis=1)\n",
    "y = df[\"Length of Stay\"]"
   ]
  },
  {
   "cell_type": "code",
   "execution_count": 77,
   "metadata": {},
   "outputs": [],
   "source": [
    "X_train, X_test, y_train, y_test = train_test_split(X,y, test_size=0.2, random_state=42)"
   ]
  },
  {
   "cell_type": "markdown",
   "metadata": {},
   "source": [
    "### Regression Model"
   ]
  },
  {
   "cell_type": "code",
   "execution_count": 78,
   "metadata": {},
   "outputs": [],
   "source": [
    "dtree = DecisionTreeRegressor(max_depth=12)"
   ]
  },
  {
   "cell_type": "code",
   "execution_count": 79,
   "metadata": {},
   "outputs": [],
   "source": [
    "dtree.fit(X_train, y_train)\n",
    "train_prediction = dtree.predict(X_train)\n",
    "test_prediction = dtree.predict(X_test)"
   ]
  },
  {
   "cell_type": "code",
   "execution_count": null,
   "metadata": {},
   "outputs": [
    {
     "name": "stdout",
     "output_type": "stream",
     "text": [
      "RMSE: Train  3.462018694232199\n",
      "RMSE: Test  3.832790796333072\n"
     ]
    }
   ],
   "source": [
    "# To understand whether over-learning occurred, RMSEs of training and testing data were examined separately.\n",
    "# The max_depth is adjusted until these two values ​​are equal.\n",
    "\n",
    "print(\"RMSE: Train \", np.sqrt(mean_squared_error(y_train, train_prediction)))\n",
    "print(\"RMSE: Test \", np.sqrt(mean_squared_error(y_test, test_prediction)))"
   ]
  },
  {
   "cell_type": "markdown",
   "metadata": {},
   "source": [
    "#### Make the label column categorical"
   ]
  },
  {
   "cell_type": "code",
   "execution_count": 81,
   "metadata": {},
   "outputs": [],
   "source": [
    "bins = [0, 5, 10, 20, 30, 50, 120]\n",
    "labels = [5, 10, 20, 30, 50, 120]"
   ]
  },
  {
   "cell_type": "code",
   "execution_count": 82,
   "metadata": {},
   "outputs": [],
   "source": [
    "df[\"los_bin\"] =pd.cut(x=df[\"Length of Stay\"], bins = bins)\n",
    "df[\"los_label\"] =pd.cut(x=df[\"Length of Stay\"], bins= bins, labels= labels)"
   ]
  },
  {
   "cell_type": "code",
   "execution_count": 83,
   "metadata": {},
   "outputs": [],
   "source": [
    "df[\"los_bin\"] = df[\"los_bin\"].apply(lambda x: str(x).replace(\",\",\"-\"))\n",
    "df[\"los_bin\"] = df[\"los_bin\"].apply(lambda x: str(x).replace(\"120\",\"120+\"))"
   ]
  },
  {
   "cell_type": "code",
   "execution_count": 84,
   "metadata": {},
   "outputs": [
    {
     "name": "stderr",
     "output_type": "stream",
     "text": [
      "C:\\Users\\HP\\AppData\\Local\\Temp\\ipykernel_9836\\1110780245.py:1: FutureWarning: \n",
      "\n",
      "Passing `palette` without assigning `hue` is deprecated and will be removed in v0.14.0. Assign the `x` variable to `hue` and set `legend=False` for the same effect.\n",
      "\n",
      "  sns.countplot(x=\"los_bin\", data = df, palette=sns.color_palette(\"tab10\"))\n",
      "C:\\Users\\HP\\AppData\\Local\\Temp\\ipykernel_9836\\1110780245.py:1: UserWarning: The palette list has more values (10) than needed (6), which may not be intended.\n",
      "  sns.countplot(x=\"los_bin\", data = df, palette=sns.color_palette(\"tab10\"))\n"
     ]
    },
    {
     "data": {
      "image/png": "[encoded data removed]",
      "text/plain": [
       "<Figure size 640x480 with 1 Axes>"
      ]
     },
     "metadata": {},
     "output_type": "display_data"
    }
   ],
   "source": [
    "sns.countplot(x=\"los_bin\", data = df, palette=sns.color_palette(\"tab10\"))\n",
    "plt.show()"
   ]
  },
  {
   "cell_type": "code",
   "execution_count": 85,
   "metadata": {},
   "outputs": [],
   "source": [
    "X_ = df.drop([\"Length of Stay\", \"los_bin\", \"los_label\"], axis = 1)\n",
    "y_ = df[\"los_label\"]"
   ]
  },
  {
   "cell_type": "code",
   "execution_count": 86,
   "metadata": {},
   "outputs": [],
   "source": [
    "X_train, X_test, y_train, y_test = train_test_split(X_, y_, test_size=0.2, random_state=42)"
   ]
  },
  {
   "cell_type": "markdown",
   "metadata": {},
   "source": [
    "### Classification Model"
   ]
  },
  {
   "cell_type": "code",
   "execution_count": 99,
   "metadata": {},
   "outputs": [],
   "source": [
    "dtree = DecisionTreeClassifier(max_depth=15)"
   ]
  },
  {
   "cell_type": "code",
   "execution_count": 100,
   "metadata": {},
   "outputs": [],
   "source": [
    "dtree.fit(X_train, y_train)\n",
    "train_prediction = dtree.predict(X_train)\n",
    "test_prediction = dtree.predict(X_test)"
   ]
  },
  {
   "cell_type": "code",
   "execution_count": 101,
   "metadata": {},
   "outputs": [
    {
     "name": "stdout",
     "output_type": "stream",
     "text": [
      "Train Accuracy:  0.8636093724082605\n",
      "Test Accuracy:  0.840775956688495\n",
      "Classification Report:                precision    recall  f1-score   support\n",
      "\n",
      "           5       0.92      0.95      0.93    290621\n",
      "          10       0.62      0.59      0.60     66162\n",
      "          20       0.61      0.63      0.62     33291\n",
      "          30       0.53      0.38      0.44      8746\n",
      "          50       0.53      0.42      0.47      4388\n",
      "         120       0.76      0.57      0.65      2227\n",
      "\n",
      "    accuracy                           0.84    405435\n",
      "   macro avg       0.66      0.59      0.62    405435\n",
      "weighted avg       0.84      0.84      0.84    405435\n",
      "\n"
     ]
    }
   ],
   "source": [
    "print(\"Train Accuracy: \", accuracy_score(y_train, train_prediction))\n",
    "print(\"Test Accuracy: \", accuracy_score(y_test, test_prediction))\n",
    "print(\"Classification Report: \", classification_report(y_test, test_prediction))"
   ]
  },
  {
   "cell_type": "code",
   "execution_count": null,
   "metadata": {},
   "outputs": [],
   "source": []
  }
 ],
 "metadata": {
  "kernelspec": {
   "display_name": "Python 3",
   "language": "python",
   "name": "python3"
  },
  "language_info": {
   "codemirror_mode": {
    "name": "ipython",
    "version": 3
   },
   "file_extension": ".py",
   "mimetype": "text/x-python",
   "name": "python",
   "nbconvert_exporter": "python",
   "pygments_lexer": "ipython3",
   "version": "3.10.11"
  }
 },
 "nbformat": 4,
 "nbformat_minor": 2
}
